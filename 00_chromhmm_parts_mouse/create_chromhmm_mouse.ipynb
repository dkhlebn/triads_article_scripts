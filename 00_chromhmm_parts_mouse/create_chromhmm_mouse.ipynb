{
 "cells": [
  {
   "cell_type": "code",
   "execution_count": 1,
   "metadata": {},
   "outputs": [],
   "source": [
    "import glob\n",
    "import numpy as np\n",
    "import pandas as pd\n",
    "import matplotlib.pyplot as plt\n",
    "\n",
    "from tqdm.auto import tqdm\n",
    "from matplotlib import gridspec\n",
    "from statsmodels.graphics.mosaicplot import mosaic"
   ]
  },
  {
   "cell_type": "code",
   "execution_count": 2,
   "metadata": {},
   "outputs": [],
   "source": [
    "def parse_file_to_dt(fname):\n",
    "    chrom_states = [\"Promoter\", \"Enhancer\", \"Transcribed\",\n",
    "                    \"PRC_Repressed\", \"Insulator\", \"HetChrom_CNV\"]\n",
    "    dt = {k : 1 for k in chrom_states}\n",
    "    with open(fname, 'r') as fn:\n",
    "        for line in fn:\n",
    "            pair = line.strip().split(' ')\n",
    "            dt[pair[1]] = pair[0]\n",
    "    return dt"
   ]
  },
  {
   "cell_type": "code",
   "execution_count": 23,
   "metadata": {},
   "outputs": [
    {
     "data": {
      "text/plain": [
       "state\n",
       "Enhancer          113476400\n",
       "HetChrom_CNV     2217577800\n",
       "Insulator          18792000\n",
       "PRC_Repressed     185155600\n",
       "Promoter           38233800\n",
       "Transcribed       152300000\n",
       "Name: length, dtype: int64"
      ]
     },
     "execution_count": 23,
     "metadata": {},
     "output_type": "execute_result"
    }
   ],
   "source": [
    "chromHmm_mesc = pd.read_table(\"./ChromHMM_mm10.mESC.bed\", names=[\"chr\", \"start\", \"end\", \"state\"])\n",
    "chromHmm_mesc[\"length\"] = chromHmm_mesc[\"end\"] - chromHmm_mesc[\"start\"]\n",
    "statelen = chromHmm_mesc.groupby(\"state\")[\"length\"].sum()\n",
    "statelen"
   ]
  },
  {
   "cell_type": "code",
   "execution_count": 32,
   "metadata": {},
   "outputs": [],
   "source": [
    "dt = {}\n",
    "\n",
    "for FILE in glob.glob(\"./res/*\"):\n",
    "    protein = \".\".join(FILE.split('/')[-1].split('.')[:4])\n",
    "    dt[protein] = parse_file_to_dt(FILE)\n",
    "        \n",
    "chip_df = pd.DataFrame.from_dict(dt).transpose()\n",
    "chip_df = chip_df.astype(\"float\")\n",
    "#chip_df = chip_df.reset_index().rename(columns={\"level_0\":\"PROTEIN\", \"level_1\":\"WINDOW\"})\n",
    "chip_df = chip_df.div(statelen, axis=1) * 10**5#[\"WINDOW\"] = chip_df.WINDOW.apply(lambda x: int(x.split('_')[1]))\n",
    "\n",
    "chip_df.to_csv(\"Triads_chromHMM_mouse_densities.tsv\", sep='\\t')\n"
   ]
  },
  {
   "cell_type": "code",
   "execution_count": 24,
   "metadata": {},
   "outputs": [
    {
     "data": {
      "text/plain": [
       "0.0006120762257478985"
      ]
     },
     "execution_count": 24,
     "metadata": {},
     "output_type": "execute_result"
    }
   ],
   "source": [
    "\n",
    "23402 / 38233800"
   ]
  }
 ],
 "metadata": {
  "kernelspec": {
   "display_name": "Python 3 (ipykernel)",
   "language": "python",
   "name": "python3"
  },
  "language_info": {
   "codemirror_mode": {
    "name": "ipython",
    "version": 3
   },
   "file_extension": ".py",
   "mimetype": "text/x-python",
   "name": "python",
   "nbconvert_exporter": "python",
   "pygments_lexer": "ipython3",
   "version": "3.10.4"
  }
 },
 "nbformat": 4,
 "nbformat_minor": 4
}
