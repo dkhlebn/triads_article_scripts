{
 "cells": [
  {
   "cell_type": "code",
   "execution_count": 1,
   "metadata": {},
   "outputs": [],
   "source": [
    "import glob\n",
    "import numpy as np\n",
    "import pandas as pd\n",
    "import matplotlib.pyplot as plt\n",
    "\n",
    "from tqdm.auto import tqdm\n",
    "from matplotlib import gridspec\n",
    "from statsmodels.graphics.mosaicplot import mosaic"
   ]
  },
  {
   "cell_type": "code",
   "execution_count": 2,
   "metadata": {},
   "outputs": [],
   "source": [
    "def parse_file_to_dt(fname):\n",
    "    chrom_states = [\"Promoter\", \"Enhancer\", \"Transcribed\",\n",
    "                    \"PRC_Repressed\", \"Insulator\", \"HetChrom_CNV\"]\n",
    "    dt = {k : 1 for k in chrom_states}\n",
    "    with open(fname, 'r') as fn:\n",
    "        for line in fn:\n",
    "            pair = line.strip().split(' ')\n",
    "            dt[pair[1]] = pair[0]\n",
    "    return dt"
   ]
  },
  {
   "cell_type": "code",
   "execution_count": 5,
   "metadata": {},
   "outputs": [
    {
     "name": "stdout",
     "output_type": "stream",
     "text": [
      "['SUZ12', 'fRIP', 'only', 'bed']\n",
      "['SUZ12', 'SymDiff', 'bed']\n",
      "['SUZ12', 'common', 'fRIP', 'bed']\n",
      "['SUZ12', 'common', 'eCLIP', 'bed']\n",
      "['SUZ12', 'fRIP', 'all', 'bed']\n",
      "['SUZ12', 'eCLIP', 'only', 'bed']\n",
      "['SUZ12', 'eCLIP', 'all', 'bed']\n"
     ]
    }
   ],
   "source": [
    "dt = {}\n",
    "\n",
    "for FILE in glob.glob(f\"chromhmm/*\"):\n",
    "        protein = FILE.split('/')[-1].split('.')\n",
    "        print(protein)\n",
    "        protein = '.'.join(protein[:-1])\n",
    "        dt[(protein)] = parse_file_to_dt(FILE)\n",
    "chip_df = pd.DataFrame.from_dict(dt).transpose()\n",
    "chip_df = chip_df.astype(\"int\")\n",
    "chip_df[\"s\"] = chip_df.sum(axis=1)\n",
    "chip_df = chip_df.div(chip_df.s, axis=0).iloc[:, :-1]\n",
    "chip_df\n",
    "chip_df.to_csv(\"ChromHMM_mESC.tsv\", sep='\\t')"
   ]
  },
  {
   "cell_type": "code",
   "execution_count": 6,
   "metadata": {},
   "outputs": [
    {
     "name": "stdout",
     "output_type": "stream",
     "text": [
      "\tPromoter\tEnhancer\tTranscribed\tPRC_Repressed\tInsulator\tHetChrom_CNV\r\n",
      "SUZ12.fRIP.only\t0.436603455167207\t0.14675023315717015\t0.05264910956166452\t0.2561842163698539\t0.016593018608162723\t0.09121996713594173\r\n",
      "SUZ12.SymDiff\t0.3826339746362417\t0.14351553675955142\t0.050201421270791274\t0.2997061730772099\t0.01629132661431928\t0.10765156764188641\r\n",
      "SUZ12.common.fRIP\t0.36351860200783576\t0.15280167806472233\t0.051990796890246355\t0.2857408947844106\t0.03708971762031457\t0.10885831063247038\r\n",
      "SUZ12.common.eCLIP\t0.2432282533441816\t0.24888064038487778\t0.040202192226641266\t0.19728271031579586\t0.18510367341988368\t0.08530253030861983\r\n",
      "SUZ12.fRIP.all\t0.388597434766857\t0.15216713614496066\t0.05314278974019081\t0.2714193035619501\t0.03259761450730055\t0.10207572127874091\r\n",
      "SUZ12.eCLIP.only\t0.3651917118339066\t0.14247012323883648\t0.049410358951725325\t0.31377192651958385\t0.016193823525717965\t0.11296205593022984\r\n",
      "SUZ12.eCLIP.all\t0.3633836178693502\t0.15048818166629493\t0.052397534524151475\t0.2925657952673991\t0.03104560504815151\t0.11011926562465278\r\n"
     ]
    }
   ],
   "source": [
    "! cat ChromHMM_mESC.tsv"
   ]
  },
  {
   "cell_type": "code",
   "execution_count": null,
   "metadata": {},
   "outputs": [],
   "source": []
  }
 ],
 "metadata": {
  "kernelspec": {
   "display_name": "Python 3 (ipykernel)",
   "language": "python",
   "name": "python3"
  },
  "language_info": {
   "codemirror_mode": {
    "name": "ipython",
    "version": 3
   },
   "file_extension": ".py",
   "mimetype": "text/x-python",
   "name": "python",
   "nbconvert_exporter": "python",
   "pygments_lexer": "ipython3",
   "version": "3.10.4"
  }
 },
 "nbformat": 4,
 "nbformat_minor": 4
}
