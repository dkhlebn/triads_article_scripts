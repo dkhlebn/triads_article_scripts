{
 "cells": [
  {
   "cell_type": "code",
   "execution_count": 1,
   "metadata": {},
   "outputs": [],
   "source": [
    "import pandas as pd"
   ]
  },
  {
   "cell_type": "code",
   "execution_count": 2,
   "metadata": {},
   "outputs": [],
   "source": [
    "def get_orths(protein):\n",
    "    \n",
    "    def tidy_orths(fname, org_from, org_to):\n",
    "        df = (pd.read_table(fname).rename(columns=dt))\n",
    "        df = df[df[\"Orthologs\"] != \"NotAnnotated\"]\n",
    "        df = df.iloc[:, :2]\n",
    "        df[\"Orthologs\"] = df[\"Orthologs\"].apply(lambda x: x.split(','))\n",
    "        df = df.explode(\"Orthologs\").rename(columns={\"Query\": f\"query_{org_from}\", \n",
    "                                                     \"Orthologs\": f\"result_{org_to}\"})\n",
    "        return df\n",
    "\n",
    "    cls = [\"Query\", \"Orthologs\", \"Query_length\", \"Orthologs_lengths\", \"JI\", \"OC\"]\n",
    "    dt = {k: v for k, v in enumerate(cls)}\n",
    "\n",
    "\n",
    "    orths_h2m = tidy_orths(f\"{protein}_hg38_mm10/annotation_files/bestSignificant.annotation.tsv\", \n",
    "                           \"hg38\", \"mm10\")\n",
    "    orths_m2h = tidy_orths(f\"{protein}_mm10_hg38/annotation_files/bestSignificant.annotation.tsv\", \n",
    "                           \"mm10\", \"hg38\")\n",
    "\n",
    "    inters1 = orths_h2m.merge(orths_m2h, left_on=\"result_mm10\", right_on=\"query_mm10\").drop_duplicates()\n",
    "    inters1 = inters1[inters1[\"query_hg38\"] == inters1[\"result_hg38\"]]\n",
    "\n",
    "    inters2 = orths_m2h.merge(orths_h2m, left_on=\"result_hg38\", right_on=\"query_hg38\").drop_duplicates()\n",
    "    inters2 = inters2[inters2[\"query_mm10\"] == inters2[\"result_mm10\"]]\n",
    "\n",
    "    result = pd.concat([inters1,inters2]).drop_duplicates().iloc[:, [0, 2]]\n",
    "    return result"
   ]
  },
  {
   "cell_type": "code",
   "execution_count": 3,
   "metadata": {},
   "outputs": [
    {
     "name": "stdout",
     "output_type": "stream",
     "text": [
      "----------------------------------\n",
      "      EZH2 ORTHOLOGS        \n",
      "----------------------------------\n",
      "   query_hg38 query_mm10\n",
      "4         U79       Gas5\n",
      "12        U79    Gm50452\n",
      "14      RPPH1      Rpph1\n",
      "18   SNORD58B    Gm23301\n",
      "20     RNU4-2    Gm24265\n",
      "21   C19orf48    Gm26247\n",
      "24   C19orf48   Snord88a\n",
      "27   C19orf48    Gm23991\n",
      "----------------------------------\n",
      "||||||||||||||||||||||||||||||||||\n",
      "----------------------------------\n",
      "      HNRNPK ORTHOLOGS        \n",
      "----------------------------------\n",
      "   query_hg38 query_mm10\n",
      "1       RPPH1      Rpph1\n",
      "2       DLEU2      Dleu2\n",
      "10   SNORD58B    Gm23301\n",
      "----------------------------------\n",
      "||||||||||||||||||||||||||||||||||\n",
      "----------------------------------\n",
      "      SUZ12 ORTHOLOGS        \n",
      "----------------------------------\n",
      "   query_hg38     query_mm10\n",
      "0  RNF213-AS1  A930037H05Rik\n",
      "2      RNU4-2        Gm24265\n",
      "5      SNORD5        Gm24299\n",
      "----------------------------------\n",
      "||||||||||||||||||||||||||||||||||\n",
      "----------------------------------\n",
      "      WDR5 ORTHOLOGS        \n",
      "----------------------------------\n",
      "Empty DataFrame\n",
      "Columns: [query_hg38, query_mm10]\n",
      "Index: []\n",
      "----------------------------------\n",
      "||||||||||||||||||||||||||||||||||\n"
     ]
    }
   ],
   "source": [
    "for protein in [\"EZH2\", \"HNRNPK\", \"SUZ12\", \"WDR5\"]:\n",
    "    print(\"----------------------------------\")\n",
    "    print(f\"      {protein} ORTHOLOGS        \")\n",
    "    print(\"----------------------------------\")\n",
    "    print(get_orths(protein))\n",
    "    print(\"----------------------------------\\n||||||||||||||||||||||||||||||||||\")"
   ]
  },
  {
   "cell_type": "code",
   "execution_count": 19,
   "metadata": {},
   "outputs": [
    {
     "name": "stdout",
     "output_type": "stream",
     "text": [
      "chr1\t44775864\t44775943\t+\tsnoRNA\tSNORD55\tSNORD55\tgencode\r\n",
      "chr11\t93733228\t93733300\t-\tsnoRNA\tSNORD5\tSNORD5\tgencode\r\n",
      "chr12\t56645027\t56645101\t-\tsnoRNA\tSNORD59A\tSNORD59A\tgencode\r\n",
      "chr14\t45088243\t45088308\t+\tsnoRNA\tSNORD58\tSNORD58\tgencode\r\n",
      "chr14\t71398337\t71398407\t+\tsnoRNA\tSNORD56B\tSNORD56B\tgencode\r\n",
      "chr18\t49489245\t49489308\t-\tsnoRNA\tSNORD58C\tSNORD58C\tgencode\r\n",
      "chr18\t49491283\t49491347\t-\tsnoRNA\tSNORD58A\tSNORD58A\tgencode\r\n",
      "chr18\t49491664\t49491729\t-\tsnoRNA\tSNORD58B\tSNORD58B\tgencode\r\n",
      "chr2\t28927067\t28927144\t+\tsnoRNA\tSNORD53\tSNORD53\tgencode\r\n",
      "chr2\t28927983\t28928060\t+\tsnoRNA\tSNORD53B\tSNORD53B\tgencode\r\n",
      "chr2\t206161878\t206161957\t+\tsnoRNA\tSNORD51\tSNORD51\tgencode\r\n",
      "chr20\t2656624\t2656694\t+\tsnoRNA\tSNORD56\tSNORD56\tgencode\r\n",
      "chr20\t2656939\t2657010\t+\tsnoRNA\tSNORD57\tSNORD57\tgencode\r\n",
      "chr6\t31837076\t31837142\t+\tsnoRNA\tSNORD52\tSNORD52\tgencode\r\n",
      "chr6\t85677589\t85677658\t-\tsnoRNA\tSNORD50B\tSNORD50B\tgencode\r\n",
      "chr8\t56073835\t56073901\t-\tsnoRNA\tSNORD54\tSNORD54\tgencode\r\n"
     ]
    }
   ],
   "source": [
    "! grep SNORD5 /home/daniil/Downloads/genes_set5_extra.bed"
   ]
  },
  {
   "cell_type": "code",
   "execution_count": 21,
   "metadata": {},
   "outputs": [
    {
     "name": "stdout",
     "output_type": "stream",
     "text": [
      "chr9\t15314074\t15314144\t+\tsnoRNA\tGm24299\tGm24299\tgencode\r\n"
     ]
    }
   ],
   "source": [
    "! grep Gm24299 /home/daniil/Downloads/genes_set3_extra.bed"
   ]
  }
 ],
 "metadata": {
  "kernelspec": {
   "display_name": "Python 3 (ipykernel)",
   "language": "python",
   "name": "python3"
  },
  "language_info": {
   "codemirror_mode": {
    "name": "ipython",
    "version": 3
   },
   "file_extension": ".py",
   "mimetype": "text/x-python",
   "name": "python",
   "nbconvert_exporter": "python",
   "pygments_lexer": "ipython3",
   "version": "3.10.4"
  }
 },
 "nbformat": 4,
 "nbformat_minor": 4
}
